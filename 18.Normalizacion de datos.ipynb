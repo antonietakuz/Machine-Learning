{
 "cells": [
  {
   "cell_type": "markdown",
   "id": "9555ef81",
   "metadata": {},
   "source": [
    "## Normalizacion de los datos"
   ]
  },
  {
   "cell_type": "code",
   "execution_count": null,
   "id": "c1052bdd",
   "metadata": {},
   "outputs": [],
   "source": [
    "#Para ver si los datos están dentro de una distribución normal existen tres métodos\n",
    "#1.Histograma\n",
    "#2.Grafico de quentile-quantile\n",
    "#3.Prueba de hsapiro-wilks"
   ]
  },
  {
   "cell_type": "markdown",
   "id": "62b5e668",
   "metadata": {},
   "source": [
    "#### 1. Carga de librerias y datos"
   ]
  },
  {
   "cell_type": "code",
   "execution_count": 28,
   "id": "70681187",
   "metadata": {},
   "outputs": [],
   "source": [
    "import pandas as pd\n",
    "import numpy as np\n",
    "from sklearn.preprocessing import StandardScaler\n",
    "from sklearn.decomposition import PCA\n",
    "import matplotlib.pyplot as plt\n",
    "from matplotlib import rcParams\n",
    "from sklearn.preprocessing import OneHotEncoder\n",
    "from sklearn.compose import ColumnTransformer\n",
    "import pylab\n",
    "import scipy.stats as stats"
   ]
  },
  {
   "cell_type": "code",
   "execution_count": 7,
   "id": "3a5f11e9",
   "metadata": {},
   "outputs": [],
   "source": [
    "datos=pd.read_csv('C:/Users/pc/Desktop/rociochavez/Rocio-Chavez-youtube-Files-master/Ejemplo normalizacion.csv', index_col=0)"
   ]
  },
  {
   "cell_type": "code",
   "execution_count": 8,
   "id": "6130032d",
   "metadata": {},
   "outputs": [
    {
     "data": {
      "text/html": [
       "<div>\n",
       "<style scoped>\n",
       "    .dataframe tbody tr th:only-of-type {\n",
       "        vertical-align: middle;\n",
       "    }\n",
       "\n",
       "    .dataframe tbody tr th {\n",
       "        vertical-align: top;\n",
       "    }\n",
       "\n",
       "    .dataframe thead th {\n",
       "        text-align: right;\n",
       "    }\n",
       "</style>\n",
       "<table border=\"1\" class=\"dataframe\">\n",
       "  <thead>\n",
       "    <tr style=\"text-align: right;\">\n",
       "      <th></th>\n",
       "      <th>A</th>\n",
       "      <th>B</th>\n",
       "      <th>C</th>\n",
       "    </tr>\n",
       "    <tr>\n",
       "      <th>Id</th>\n",
       "      <th></th>\n",
       "      <th></th>\n",
       "      <th></th>\n",
       "    </tr>\n",
       "  </thead>\n",
       "  <tbody>\n",
       "    <tr>\n",
       "      <th>1</th>\n",
       "      <td>945</td>\n",
       "      <td>1814</td>\n",
       "      <td>235</td>\n",
       "    </tr>\n",
       "    <tr>\n",
       "      <th>2</th>\n",
       "      <td>1978</td>\n",
       "      <td>5588</td>\n",
       "      <td>6850</td>\n",
       "    </tr>\n",
       "    <tr>\n",
       "      <th>3</th>\n",
       "      <td>1028</td>\n",
       "      <td>22890</td>\n",
       "      <td>505</td>\n",
       "    </tr>\n",
       "    <tr>\n",
       "      <th>4</th>\n",
       "      <td>4527</td>\n",
       "      <td>57497</td>\n",
       "      <td>8698</td>\n",
       "    </tr>\n",
       "    <tr>\n",
       "      <th>5</th>\n",
       "      <td>5063</td>\n",
       "      <td>54592</td>\n",
       "      <td>2510</td>\n",
       "    </tr>\n",
       "    <tr>\n",
       "      <th>6</th>\n",
       "      <td>3360</td>\n",
       "      <td>33287</td>\n",
       "      <td>9505</td>\n",
       "    </tr>\n",
       "    <tr>\n",
       "      <th>7</th>\n",
       "      <td>1996</td>\n",
       "      <td>150970</td>\n",
       "      <td>2417</td>\n",
       "    </tr>\n",
       "    <tr>\n",
       "      <th>8</th>\n",
       "      <td>8207</td>\n",
       "      <td>146476</td>\n",
       "      <td>1767</td>\n",
       "    </tr>\n",
       "    <tr>\n",
       "      <th>9</th>\n",
       "      <td>1381</td>\n",
       "      <td>699</td>\n",
       "      <td>766</td>\n",
       "    </tr>\n",
       "    <tr>\n",
       "      <th>10</th>\n",
       "      <td>2971</td>\n",
       "      <td>27144</td>\n",
       "      <td>2930</td>\n",
       "    </tr>\n",
       "    <tr>\n",
       "      <th>11</th>\n",
       "      <td>3810</td>\n",
       "      <td>48462</td>\n",
       "      <td>7429</td>\n",
       "    </tr>\n",
       "    <tr>\n",
       "      <th>12</th>\n",
       "      <td>8215</td>\n",
       "      <td>104172</td>\n",
       "      <td>2327</td>\n",
       "    </tr>\n",
       "    <tr>\n",
       "      <th>13</th>\n",
       "      <td>1253</td>\n",
       "      <td>116611</td>\n",
       "      <td>11508</td>\n",
       "    </tr>\n",
       "    <tr>\n",
       "      <th>14</th>\n",
       "      <td>768</td>\n",
       "      <td>23897</td>\n",
       "      <td>3216</td>\n",
       "    </tr>\n",
       "    <tr>\n",
       "      <th>15</th>\n",
       "      <td>6103</td>\n",
       "      <td>6763</td>\n",
       "      <td>6244</td>\n",
       "    </tr>\n",
       "    <tr>\n",
       "      <th>16</th>\n",
       "      <td>5095</td>\n",
       "      <td>13717</td>\n",
       "      <td>2856</td>\n",
       "    </tr>\n",
       "    <tr>\n",
       "      <th>17</th>\n",
       "      <td>3133</td>\n",
       "      <td>10141</td>\n",
       "      <td>1325</td>\n",
       "    </tr>\n",
       "    <tr>\n",
       "      <th>18</th>\n",
       "      <td>2913</td>\n",
       "      <td>286</td>\n",
       "      <td>472</td>\n",
       "    </tr>\n",
       "    <tr>\n",
       "      <th>19</th>\n",
       "      <td>9752</td>\n",
       "      <td>35548</td>\n",
       "      <td>8533</td>\n",
       "    </tr>\n",
       "    <tr>\n",
       "      <th>20</th>\n",
       "      <td>9218</td>\n",
       "      <td>131005</td>\n",
       "      <td>10437</td>\n",
       "    </tr>\n",
       "    <tr>\n",
       "      <th>21</th>\n",
       "      <td>4556</td>\n",
       "      <td>4558</td>\n",
       "      <td>2576</td>\n",
       "    </tr>\n",
       "    <tr>\n",
       "      <th>22</th>\n",
       "      <td>1510</td>\n",
       "      <td>4444</td>\n",
       "      <td>2379</td>\n",
       "    </tr>\n",
       "    <tr>\n",
       "      <th>23</th>\n",
       "      <td>2076</td>\n",
       "      <td>566</td>\n",
       "      <td>349</td>\n",
       "    </tr>\n",
       "    <tr>\n",
       "      <th>24</th>\n",
       "      <td>6473</td>\n",
       "      <td>86202</td>\n",
       "      <td>5083</td>\n",
       "    </tr>\n",
       "    <tr>\n",
       "      <th>25</th>\n",
       "      <td>203</td>\n",
       "      <td>126277</td>\n",
       "      <td>1209</td>\n",
       "    </tr>\n",
       "    <tr>\n",
       "      <th>26</th>\n",
       "      <td>5063</td>\n",
       "      <td>54592</td>\n",
       "      <td>2510</td>\n",
       "    </tr>\n",
       "    <tr>\n",
       "      <th>27</th>\n",
       "      <td>986</td>\n",
       "      <td>75004</td>\n",
       "      <td>3732</td>\n",
       "    </tr>\n",
       "    <tr>\n",
       "      <th>28</th>\n",
       "      <td>3612</td>\n",
       "      <td>14118</td>\n",
       "      <td>6911</td>\n",
       "    </tr>\n",
       "    <tr>\n",
       "      <th>29</th>\n",
       "      <td>7572</td>\n",
       "      <td>50158</td>\n",
       "      <td>6935</td>\n",
       "    </tr>\n",
       "    <tr>\n",
       "      <th>30</th>\n",
       "      <td>307</td>\n",
       "      <td>1456</td>\n",
       "      <td>244</td>\n",
       "    </tr>\n",
       "  </tbody>\n",
       "</table>\n",
       "</div>"
      ],
      "text/plain": [
       "       A       B      C\n",
       "Id                     \n",
       "1    945    1814    235\n",
       "2   1978    5588   6850\n",
       "3   1028   22890    505\n",
       "4   4527   57497   8698\n",
       "5   5063   54592   2510\n",
       "6   3360   33287   9505\n",
       "7   1996  150970   2417\n",
       "8   8207  146476   1767\n",
       "9   1381     699    766\n",
       "10  2971   27144   2930\n",
       "11  3810   48462   7429\n",
       "12  8215  104172   2327\n",
       "13  1253  116611  11508\n",
       "14   768   23897   3216\n",
       "15  6103    6763   6244\n",
       "16  5095   13717   2856\n",
       "17  3133   10141   1325\n",
       "18  2913     286    472\n",
       "19  9752   35548   8533\n",
       "20  9218  131005  10437\n",
       "21  4556    4558   2576\n",
       "22  1510    4444   2379\n",
       "23  2076     566    349\n",
       "24  6473   86202   5083\n",
       "25   203  126277   1209\n",
       "26  5063   54592   2510\n",
       "27   986   75004   3732\n",
       "28  3612   14118   6911\n",
       "29  7572   50158   6935\n",
       "30   307    1456    244"
      ]
     },
     "execution_count": 8,
     "metadata": {},
     "output_type": "execute_result"
    }
   ],
   "source": [
    "datos"
   ]
  },
  {
   "cell_type": "code",
   "execution_count": 9,
   "id": "a8f6d915",
   "metadata": {},
   "outputs": [
    {
     "data": {
      "text/html": [
       "<div>\n",
       "<style scoped>\n",
       "    .dataframe tbody tr th:only-of-type {\n",
       "        vertical-align: middle;\n",
       "    }\n",
       "\n",
       "    .dataframe tbody tr th {\n",
       "        vertical-align: top;\n",
       "    }\n",
       "\n",
       "    .dataframe thead th {\n",
       "        text-align: right;\n",
       "    }\n",
       "</style>\n",
       "<table border=\"1\" class=\"dataframe\">\n",
       "  <thead>\n",
       "    <tr style=\"text-align: right;\">\n",
       "      <th></th>\n",
       "      <th>A</th>\n",
       "      <th>B</th>\n",
       "      <th>C</th>\n",
       "    </tr>\n",
       "  </thead>\n",
       "  <tbody>\n",
       "    <tr>\n",
       "      <th>count</th>\n",
       "      <td>30.000000</td>\n",
       "      <td>30.000000</td>\n",
       "      <td>30.000000</td>\n",
       "    </tr>\n",
       "    <tr>\n",
       "      <th>mean</th>\n",
       "      <td>3802.466667</td>\n",
       "      <td>46964.466667</td>\n",
       "      <td>4081.933333</td>\n",
       "    </tr>\n",
       "    <tr>\n",
       "      <th>std</th>\n",
       "      <td>2777.384316</td>\n",
       "      <td>48295.178645</td>\n",
       "      <td>3362.625944</td>\n",
       "    </tr>\n",
       "    <tr>\n",
       "      <th>min</th>\n",
       "      <td>203.000000</td>\n",
       "      <td>286.000000</td>\n",
       "      <td>235.000000</td>\n",
       "    </tr>\n",
       "    <tr>\n",
       "      <th>25%</th>\n",
       "      <td>1413.250000</td>\n",
       "      <td>5881.750000</td>\n",
       "      <td>1435.500000</td>\n",
       "    </tr>\n",
       "    <tr>\n",
       "      <th>50%</th>\n",
       "      <td>3246.500000</td>\n",
       "      <td>30215.500000</td>\n",
       "      <td>2716.000000</td>\n",
       "    </tr>\n",
       "    <tr>\n",
       "      <th>75%</th>\n",
       "      <td>5087.000000</td>\n",
       "      <td>70627.250000</td>\n",
       "      <td>6895.750000</td>\n",
       "    </tr>\n",
       "    <tr>\n",
       "      <th>max</th>\n",
       "      <td>9752.000000</td>\n",
       "      <td>150970.000000</td>\n",
       "      <td>11508.000000</td>\n",
       "    </tr>\n",
       "  </tbody>\n",
       "</table>\n",
       "</div>"
      ],
      "text/plain": [
       "                 A              B             C\n",
       "count    30.000000      30.000000     30.000000\n",
       "mean   3802.466667   46964.466667   4081.933333\n",
       "std    2777.384316   48295.178645   3362.625944\n",
       "min     203.000000     286.000000    235.000000\n",
       "25%    1413.250000    5881.750000   1435.500000\n",
       "50%    3246.500000   30215.500000   2716.000000\n",
       "75%    5087.000000   70627.250000   6895.750000\n",
       "max    9752.000000  150970.000000  11508.000000"
      ]
     },
     "execution_count": 9,
     "metadata": {},
     "output_type": "execute_result"
    }
   ],
   "source": [
    "datos.describe()"
   ]
  },
  {
   "cell_type": "markdown",
   "id": "5f8fc2a6",
   "metadata": {},
   "source": [
    "#### 2. Creamos los histogramas"
   ]
  },
  {
   "cell_type": "code",
   "execution_count": 13,
   "id": "d4104c09",
   "metadata": {},
   "outputs": [],
   "source": [
    "def crear_histograma(variable, j, color):\n",
    "    plt.figure(i)\n",
    "    plt.hist(datos[variable], 10, color=color, ec='black')\n",
    "    plt.title('Histograma' + variable)"
   ]
  },
  {
   "cell_type": "code",
   "execution_count": 14,
   "id": "5d8b1c20",
   "metadata": {},
   "outputs": [
    {
     "data": {
      "image/png": "[encoded data removed]",
      "text/plain": [
       "<Figure size 640x480 with 1 Axes>"
      ]
     },
     "metadata": {},
     "output_type": "display_data"
    },
    {
     "data": {
      "image/png": "[encoded data removed]",
      "text/plain": [
       "<Figure size 640x480 with 1 Axes>"
      ]
     },
     "metadata": {},
     "output_type": "display_data"
    },
    {
     "data": {
      "image/png": "[encoded data removed]",
      "text/plain": [
       "<Figure size 640x480 with 1 Axes>"
      ]
     },
     "metadata": {},
     "output_type": "display_data"
    }
   ],
   "source": [
    "#Creamos una lista con las variables que utilizaremos para crear los histogramas\n",
    "variable=list(datos.columns.values)\n",
    "\n",
    "#creamos una lista con los colores que queremos que tengan los histogramas\n",
    "colores=['green', 'blue', 'yellow']\n",
    "\n",
    "#Inicialzamos una varible a utilizar para separar los histogramas\n",
    "j=0\n",
    "\n",
    "#Inicializamos una variable a utilizar para asignar un diferente color\n",
    "k=0\n",
    "\n",
    "\n",
    "#recorremos la lista del ciclo for\n",
    "for i in variable:\n",
    "    crear_histograma(i, j, colores[k])\n",
    "    j+=1\n",
    "    k+=1"
   ]
  },
  {
   "cell_type": "markdown",
   "id": "ca4ec550",
   "metadata": {},
   "source": [
    "#### 2. Quantile-Quantile"
   ]
  },
  {
   "cell_type": "code",
   "execution_count": 16,
   "id": "22b95e9c",
   "metadata": {},
   "outputs": [],
   "source": [
    "def crear_quantile(variable, j):\n",
    "    plt.figure(j)\n",
    "    stats.probplot(datos[variable], dist='norm', plot=pylab)\n",
    "    plt.title('grafico Quantile-Quantile' + variable)"
   ]
  },
  {
   "cell_type": "code",
   "execution_count": 17,
   "id": "603bf48d",
   "metadata": {},
   "outputs": [
    {
     "data": {
      "image/png": "[encoded data removed]",
      "text/plain": [
       "<Figure size 640x480 with 1 Axes>"
      ]
     },
     "metadata": {},
     "output_type": "display_data"
    },
    {
     "data": {
      "image/png": "[encoded data removed]",
      "text/plain": [
       "<Figure size 640x480 with 1 Axes>"
      ]
     },
     "metadata": {},
     "output_type": "display_data"
    },
    {
     "data": {
      "image/png": "[encoded data removed]",
      "text/plain": [
       "<Figure size 640x480 with 1 Axes>"
      ]
     },
     "metadata": {},
     "output_type": "display_data"
    }
   ],
   "source": [
    "#Inicialzamos una varible a utilizar para separar los histogramas\n",
    "j=0\n",
    "\n",
    "#recorremos la lista del ciclo for\n",
    "for i in variable:\n",
    "    crear_quantile(i, j)\n",
    "    j+=1"
   ]
  },
  {
   "cell_type": "markdown",
   "id": "2356e7da",
   "metadata": {},
   "source": [
    "#### 3. Prueba de Shapiro Wilks"
   ]
  },
  {
   "cell_type": "code",
   "execution_count": null,
   "id": "64f4cceb",
   "metadata": {},
   "outputs": [],
   "source": [
    "#El estadistico es un valor calculado con nuestros datos y el p_value se obtiene de una tabla utilizando dicho estadistico\n",
    "#Si el p_value es mayor a 0.05 se asume que se trata de una distibucón normal"
   ]
  },
  {
   "cell_type": "code",
   "execution_count": 31,
   "id": "a478c774",
   "metadata": {},
   "outputs": [],
   "source": [
    "def calcular_shapiro(variable):\n",
    "    estadistico, p_value=stats.shapiro(datos[variable])\n",
    "    print(f'Estadistico de {variable}={estadistico: .2f}, p_value {variable}= {p_value: .3f}')"
   ]
  },
  {
   "cell_type": "code",
   "execution_count": 32,
   "id": "d6b79180",
   "metadata": {},
   "outputs": [
    {
     "name": "stdout",
     "output_type": "stream",
     "text": [
      "Estadistico de A= 0.92, p_value A=  0.036\n",
      "Estadistico de B= 0.85, p_value B=  0.001\n",
      "Estadistico de C= 0.89, p_value C=  0.006\n"
     ]
    }
   ],
   "source": [
    "for i in variable:\n",
    "  calcular_shapiro(i)"
   ]
  },
  {
   "cell_type": "markdown",
   "id": "7ad68906",
   "metadata": {},
   "source": [
    "##  Normalizamos los datos"
   ]
  },
  {
   "cell_type": "code",
   "execution_count": null,
   "id": "fb3bdc93",
   "metadata": {},
   "outputs": [],
   "source": [
    "Para lograr que los datos tengan una distribución normal existen dos métodos:\n",
    "    1. Transformación Box-Cox\n",
    "    2. Transformación Yeo-Jhonson"
   ]
  },
  {
   "cell_type": "markdown",
   "id": "799fda89",
   "metadata": {},
   "source": [
    "### 1. Box-cox"
   ]
  },
  {
   "cell_type": "code",
   "execution_count": 33,
   "id": "1374bb17",
   "metadata": {},
   "outputs": [],
   "source": [
    "datos_norm_boxcox, lambda_calc= stats.boxcox(datos['A'])"
   ]
  },
  {
   "cell_type": "code",
   "execution_count": 34,
   "id": "657dd30d",
   "metadata": {},
   "outputs": [
    {
     "data": {
      "text/plain": [
       "0.39011137978601756"
      ]
     },
     "execution_count": 34,
     "metadata": {},
     "output_type": "execute_result"
    }
   ],
   "source": [
    "lambda_calc"
   ]
  },
  {
   "cell_type": "code",
   "execution_count": 35,
   "id": "19d267ff",
   "metadata": {},
   "outputs": [
    {
     "data": {
      "text/plain": [
       "array([34.55263148, 46.94820725, 35.79182236, 65.82537813, 68.87689646,\n",
       "       58.31688439, 47.12349058, 83.69063476, 40.47310226, 55.46364396,\n",
       "       61.37638395, 83.72342499, 38.87067587, 31.66794803, 74.27796923,\n",
       "       69.05270449, 56.67802963, 55.01906469, 89.69424496, 87.68955241,\n",
       "       65.99595278, 41.99881315, 47.89108448, 76.06278624, 17.80666774,\n",
       "       68.87689646, 35.17271395, 60.05896511, 81.02302213, 21.37377526])"
      ]
     },
     "execution_count": 35,
     "metadata": {},
     "output_type": "execute_result"
    }
   ],
   "source": [
    "datos_norm_boxcox"
   ]
  },
  {
   "cell_type": "code",
   "execution_count": 36,
   "id": "43fbc2d0",
   "metadata": {},
   "outputs": [
    {
     "data": {
      "text/html": [
       "<div>\n",
       "<style scoped>\n",
       "    .dataframe tbody tr th:only-of-type {\n",
       "        vertical-align: middle;\n",
       "    }\n",
       "\n",
       "    .dataframe tbody tr th {\n",
       "        vertical-align: top;\n",
       "    }\n",
       "\n",
       "    .dataframe thead th {\n",
       "        text-align: right;\n",
       "    }\n",
       "</style>\n",
       "<table border=\"1\" class=\"dataframe\">\n",
       "  <thead>\n",
       "    <tr style=\"text-align: right;\">\n",
       "      <th></th>\n",
       "      <th>0</th>\n",
       "    </tr>\n",
       "  </thead>\n",
       "  <tbody>\n",
       "    <tr>\n",
       "      <th>0</th>\n",
       "      <td>34.552631</td>\n",
       "    </tr>\n",
       "    <tr>\n",
       "      <th>1</th>\n",
       "      <td>46.948207</td>\n",
       "    </tr>\n",
       "    <tr>\n",
       "      <th>2</th>\n",
       "      <td>35.791822</td>\n",
       "    </tr>\n",
       "    <tr>\n",
       "      <th>3</th>\n",
       "      <td>65.825378</td>\n",
       "    </tr>\n",
       "    <tr>\n",
       "      <th>4</th>\n",
       "      <td>68.876896</td>\n",
       "    </tr>\n",
       "    <tr>\n",
       "      <th>5</th>\n",
       "      <td>58.316884</td>\n",
       "    </tr>\n",
       "    <tr>\n",
       "      <th>6</th>\n",
       "      <td>47.123491</td>\n",
       "    </tr>\n",
       "    <tr>\n",
       "      <th>7</th>\n",
       "      <td>83.690635</td>\n",
       "    </tr>\n",
       "    <tr>\n",
       "      <th>8</th>\n",
       "      <td>40.473102</td>\n",
       "    </tr>\n",
       "    <tr>\n",
       "      <th>9</th>\n",
       "      <td>55.463644</td>\n",
       "    </tr>\n",
       "    <tr>\n",
       "      <th>10</th>\n",
       "      <td>61.376384</td>\n",
       "    </tr>\n",
       "    <tr>\n",
       "      <th>11</th>\n",
       "      <td>83.723425</td>\n",
       "    </tr>\n",
       "    <tr>\n",
       "      <th>12</th>\n",
       "      <td>38.870676</td>\n",
       "    </tr>\n",
       "    <tr>\n",
       "      <th>13</th>\n",
       "      <td>31.667948</td>\n",
       "    </tr>\n",
       "    <tr>\n",
       "      <th>14</th>\n",
       "      <td>74.277969</td>\n",
       "    </tr>\n",
       "    <tr>\n",
       "      <th>15</th>\n",
       "      <td>69.052704</td>\n",
       "    </tr>\n",
       "    <tr>\n",
       "      <th>16</th>\n",
       "      <td>56.678030</td>\n",
       "    </tr>\n",
       "    <tr>\n",
       "      <th>17</th>\n",
       "      <td>55.019065</td>\n",
       "    </tr>\n",
       "    <tr>\n",
       "      <th>18</th>\n",
       "      <td>89.694245</td>\n",
       "    </tr>\n",
       "    <tr>\n",
       "      <th>19</th>\n",
       "      <td>87.689552</td>\n",
       "    </tr>\n",
       "    <tr>\n",
       "      <th>20</th>\n",
       "      <td>65.995953</td>\n",
       "    </tr>\n",
       "    <tr>\n",
       "      <th>21</th>\n",
       "      <td>41.998813</td>\n",
       "    </tr>\n",
       "    <tr>\n",
       "      <th>22</th>\n",
       "      <td>47.891084</td>\n",
       "    </tr>\n",
       "    <tr>\n",
       "      <th>23</th>\n",
       "      <td>76.062786</td>\n",
       "    </tr>\n",
       "    <tr>\n",
       "      <th>24</th>\n",
       "      <td>17.806668</td>\n",
       "    </tr>\n",
       "    <tr>\n",
       "      <th>25</th>\n",
       "      <td>68.876896</td>\n",
       "    </tr>\n",
       "    <tr>\n",
       "      <th>26</th>\n",
       "      <td>35.172714</td>\n",
       "    </tr>\n",
       "    <tr>\n",
       "      <th>27</th>\n",
       "      <td>60.058965</td>\n",
       "    </tr>\n",
       "    <tr>\n",
       "      <th>28</th>\n",
       "      <td>81.023022</td>\n",
       "    </tr>\n",
       "    <tr>\n",
       "      <th>29</th>\n",
       "      <td>21.373775</td>\n",
       "    </tr>\n",
       "  </tbody>\n",
       "</table>\n",
       "</div>"
      ],
      "text/plain": [
       "            0\n",
       "0   34.552631\n",
       "1   46.948207\n",
       "2   35.791822\n",
       "3   65.825378\n",
       "4   68.876896\n",
       "5   58.316884\n",
       "6   47.123491\n",
       "7   83.690635\n",
       "8   40.473102\n",
       "9   55.463644\n",
       "10  61.376384\n",
       "11  83.723425\n",
       "12  38.870676\n",
       "13  31.667948\n",
       "14  74.277969\n",
       "15  69.052704\n",
       "16  56.678030\n",
       "17  55.019065\n",
       "18  89.694245\n",
       "19  87.689552\n",
       "20  65.995953\n",
       "21  41.998813\n",
       "22  47.891084\n",
       "23  76.062786\n",
       "24  17.806668\n",
       "25  68.876896\n",
       "26  35.172714\n",
       "27  60.058965\n",
       "28  81.023022\n",
       "29  21.373775"
      ]
     },
     "execution_count": 36,
     "metadata": {},
     "output_type": "execute_result"
    }
   ],
   "source": [
    "datos_norm_boxcox=pd.DataFrame(datos_norm_boxcox)\n",
    "datos_norm_boxcox"
   ]
  },
  {
   "cell_type": "code",
   "execution_count": 37,
   "id": "7ff4dd23",
   "metadata": {},
   "outputs": [
    {
     "data": {
      "text/html": [
       "<div>\n",
       "<style scoped>\n",
       "    .dataframe tbody tr th:only-of-type {\n",
       "        vertical-align: middle;\n",
       "    }\n",
       "\n",
       "    .dataframe tbody tr th {\n",
       "        vertical-align: top;\n",
       "    }\n",
       "\n",
       "    .dataframe thead th {\n",
       "        text-align: right;\n",
       "    }\n",
       "</style>\n",
       "<table border=\"1\" class=\"dataframe\">\n",
       "  <thead>\n",
       "    <tr style=\"text-align: right;\">\n",
       "      <th></th>\n",
       "      <th>0</th>\n",
       "    </tr>\n",
       "  </thead>\n",
       "  <tbody>\n",
       "    <tr>\n",
       "      <th>count</th>\n",
       "      <td>30.000000</td>\n",
       "    </tr>\n",
       "    <tr>\n",
       "      <th>mean</th>\n",
       "      <td>56.712446</td>\n",
       "    </tr>\n",
       "    <tr>\n",
       "      <th>std</th>\n",
       "      <td>19.724162</td>\n",
       "    </tr>\n",
       "    <tr>\n",
       "      <th>min</th>\n",
       "      <td>17.806668</td>\n",
       "    </tr>\n",
       "    <tr>\n",
       "      <th>25%</th>\n",
       "      <td>40.854530</td>\n",
       "    </tr>\n",
       "    <tr>\n",
       "      <th>50%</th>\n",
       "      <td>57.497457</td>\n",
       "    </tr>\n",
       "    <tr>\n",
       "      <th>75%</th>\n",
       "      <td>69.008752</td>\n",
       "    </tr>\n",
       "    <tr>\n",
       "      <th>max</th>\n",
       "      <td>89.694245</td>\n",
       "    </tr>\n",
       "  </tbody>\n",
       "</table>\n",
       "</div>"
      ],
      "text/plain": [
       "               0\n",
       "count  30.000000\n",
       "mean   56.712446\n",
       "std    19.724162\n",
       "min    17.806668\n",
       "25%    40.854530\n",
       "50%    57.497457\n",
       "75%    69.008752\n",
       "max    89.694245"
      ]
     },
     "execution_count": 37,
     "metadata": {},
     "output_type": "execute_result"
    }
   ],
   "source": [
    "datos_norm_boxcox.describe()"
   ]
  },
  {
   "cell_type": "code",
   "execution_count": 38,
   "id": "0ac2472b",
   "metadata": {},
   "outputs": [
    {
     "data": {
      "text/plain": [
       "(array([2., 1., 4., 2., 3., 5., 3., 4., 2., 4.]),\n",
       " array([17.80666774, 24.99542546, 32.18418318, 39.3729409 , 46.56169863,\n",
       "        53.75045635, 60.93921407, 68.12797179, 75.31672952, 82.50548724,\n",
       "        89.69424496]),\n",
       " <BarContainer object of 10 artists>)"
      ]
     },
     "execution_count": 38,
     "metadata": {},
     "output_type": "execute_result"
    },
    {
     "data": {
      "image/png": "[encoded data removed]",
      "text/plain": [
       "<Figure size 640x480 with 1 Axes>"
      ]
     },
     "metadata": {},
     "output_type": "display_data"
    }
   ],
   "source": [
    "#Probamos la normalidad de los datos obtenidos\n",
    "plt.hist(datos_norm_boxcox[0], 10, color='green', ec='black')"
   ]
  },
  {
   "cell_type": "markdown",
   "id": "cb247fff",
   "metadata": {},
   "source": [
    "### 2. Transformación de Yeo-Johnson"
   ]
  },
  {
   "cell_type": "code",
   "execution_count": 44,
   "id": "d0b60aea",
   "metadata": {},
   "outputs": [],
   "source": [
    "datos_norm_johnson, lambda_calc=stats.yeojohnson(datos['A'])"
   ]
  },
  {
   "cell_type": "code",
   "execution_count": 45,
   "id": "73f77313",
   "metadata": {},
   "outputs": [
    {
     "data": {
      "text/plain": [
       "0.3898222474389129"
      ]
     },
     "execution_count": 45,
     "metadata": {},
     "output_type": "execute_result"
    }
   ],
   "source": [
    "lambda_calc"
   ]
  },
  {
   "cell_type": "code",
   "execution_count": 46,
   "id": "613f305e",
   "metadata": {},
   "outputs": [
    {
     "data": {
      "text/plain": [
       "array([34.52004134, 46.88415793, 35.75599975, 65.71370993, 68.75737275,\n",
       "       58.22432466, 47.05900311, 83.53215645, 40.42530608, 55.37827428,\n",
       "       61.27607356, 83.5648589 , 38.82694522, 31.64304231, 74.14440295,\n",
       "       68.93272652, 56.58960385, 54.93481244, 89.51958289, 87.52031968,\n",
       "       65.88384691, 41.94716788, 47.82467853, 75.92453944, 17.82761003,\n",
       "       68.75737275, 35.13850203, 59.96199774, 80.87166136, 21.38033313])"
      ]
     },
     "execution_count": 46,
     "metadata": {},
     "output_type": "execute_result"
    }
   ],
   "source": [
    "datos_norm_johnson"
   ]
  },
  {
   "cell_type": "code",
   "execution_count": 47,
   "id": "519651b2",
   "metadata": {},
   "outputs": [
    {
     "data": {
      "text/html": [
       "<div>\n",
       "<style scoped>\n",
       "    .dataframe tbody tr th:only-of-type {\n",
       "        vertical-align: middle;\n",
       "    }\n",
       "\n",
       "    .dataframe tbody tr th {\n",
       "        vertical-align: top;\n",
       "    }\n",
       "\n",
       "    .dataframe thead th {\n",
       "        text-align: right;\n",
       "    }\n",
       "</style>\n",
       "<table border=\"1\" class=\"dataframe\">\n",
       "  <thead>\n",
       "    <tr style=\"text-align: right;\">\n",
       "      <th></th>\n",
       "      <th>0</th>\n",
       "    </tr>\n",
       "  </thead>\n",
       "  <tbody>\n",
       "    <tr>\n",
       "      <th>0</th>\n",
       "      <td>34.520041</td>\n",
       "    </tr>\n",
       "    <tr>\n",
       "      <th>1</th>\n",
       "      <td>46.884158</td>\n",
       "    </tr>\n",
       "    <tr>\n",
       "      <th>2</th>\n",
       "      <td>35.756000</td>\n",
       "    </tr>\n",
       "    <tr>\n",
       "      <th>3</th>\n",
       "      <td>65.713710</td>\n",
       "    </tr>\n",
       "    <tr>\n",
       "      <th>4</th>\n",
       "      <td>68.757373</td>\n",
       "    </tr>\n",
       "    <tr>\n",
       "      <th>5</th>\n",
       "      <td>58.224325</td>\n",
       "    </tr>\n",
       "    <tr>\n",
       "      <th>6</th>\n",
       "      <td>47.059003</td>\n",
       "    </tr>\n",
       "    <tr>\n",
       "      <th>7</th>\n",
       "      <td>83.532156</td>\n",
       "    </tr>\n",
       "    <tr>\n",
       "      <th>8</th>\n",
       "      <td>40.425306</td>\n",
       "    </tr>\n",
       "    <tr>\n",
       "      <th>9</th>\n",
       "      <td>55.378274</td>\n",
       "    </tr>\n",
       "    <tr>\n",
       "      <th>10</th>\n",
       "      <td>61.276074</td>\n",
       "    </tr>\n",
       "    <tr>\n",
       "      <th>11</th>\n",
       "      <td>83.564859</td>\n",
       "    </tr>\n",
       "    <tr>\n",
       "      <th>12</th>\n",
       "      <td>38.826945</td>\n",
       "    </tr>\n",
       "    <tr>\n",
       "      <th>13</th>\n",
       "      <td>31.643042</td>\n",
       "    </tr>\n",
       "    <tr>\n",
       "      <th>14</th>\n",
       "      <td>74.144403</td>\n",
       "    </tr>\n",
       "    <tr>\n",
       "      <th>15</th>\n",
       "      <td>68.932727</td>\n",
       "    </tr>\n",
       "    <tr>\n",
       "      <th>16</th>\n",
       "      <td>56.589604</td>\n",
       "    </tr>\n",
       "    <tr>\n",
       "      <th>17</th>\n",
       "      <td>54.934812</td>\n",
       "    </tr>\n",
       "    <tr>\n",
       "      <th>18</th>\n",
       "      <td>89.519583</td>\n",
       "    </tr>\n",
       "    <tr>\n",
       "      <th>19</th>\n",
       "      <td>87.520320</td>\n",
       "    </tr>\n",
       "    <tr>\n",
       "      <th>20</th>\n",
       "      <td>65.883847</td>\n",
       "    </tr>\n",
       "    <tr>\n",
       "      <th>21</th>\n",
       "      <td>41.947168</td>\n",
       "    </tr>\n",
       "    <tr>\n",
       "      <th>22</th>\n",
       "      <td>47.824679</td>\n",
       "    </tr>\n",
       "    <tr>\n",
       "      <th>23</th>\n",
       "      <td>75.924539</td>\n",
       "    </tr>\n",
       "    <tr>\n",
       "      <th>24</th>\n",
       "      <td>17.827610</td>\n",
       "    </tr>\n",
       "    <tr>\n",
       "      <th>25</th>\n",
       "      <td>68.757373</td>\n",
       "    </tr>\n",
       "    <tr>\n",
       "      <th>26</th>\n",
       "      <td>35.138502</td>\n",
       "    </tr>\n",
       "    <tr>\n",
       "      <th>27</th>\n",
       "      <td>59.961998</td>\n",
       "    </tr>\n",
       "    <tr>\n",
       "      <th>28</th>\n",
       "      <td>80.871661</td>\n",
       "    </tr>\n",
       "    <tr>\n",
       "      <th>29</th>\n",
       "      <td>21.380333</td>\n",
       "    </tr>\n",
       "  </tbody>\n",
       "</table>\n",
       "</div>"
      ],
      "text/plain": [
       "            0\n",
       "0   34.520041\n",
       "1   46.884158\n",
       "2   35.756000\n",
       "3   65.713710\n",
       "4   68.757373\n",
       "5   58.224325\n",
       "6   47.059003\n",
       "7   83.532156\n",
       "8   40.425306\n",
       "9   55.378274\n",
       "10  61.276074\n",
       "11  83.564859\n",
       "12  38.826945\n",
       "13  31.643042\n",
       "14  74.144403\n",
       "15  68.932727\n",
       "16  56.589604\n",
       "17  54.934812\n",
       "18  89.519583\n",
       "19  87.520320\n",
       "20  65.883847\n",
       "21  41.947168\n",
       "22  47.824679\n",
       "23  75.924539\n",
       "24  17.827610\n",
       "25  68.757373\n",
       "26  35.138502\n",
       "27  59.961998\n",
       "28  80.871661\n",
       "29  21.380333"
      ]
     },
     "execution_count": 47,
     "metadata": {},
     "output_type": "execute_result"
    }
   ],
   "source": [
    "datos_norm_johnson=pd.DataFrame(datos_norm_johnson)\n",
    "datos_norm_johnson"
   ]
  },
  {
   "cell_type": "code",
   "execution_count": 48,
   "id": "c0173128",
   "metadata": {},
   "outputs": [
    {
     "data": {
      "text/html": [
       "<div>\n",
       "<style scoped>\n",
       "    .dataframe tbody tr th:only-of-type {\n",
       "        vertical-align: middle;\n",
       "    }\n",
       "\n",
       "    .dataframe tbody tr th {\n",
       "        vertical-align: top;\n",
       "    }\n",
       "\n",
       "    .dataframe thead th {\n",
       "        text-align: right;\n",
       "    }\n",
       "</style>\n",
       "<table border=\"1\" class=\"dataframe\">\n",
       "  <thead>\n",
       "    <tr style=\"text-align: right;\">\n",
       "      <th></th>\n",
       "      <th>0</th>\n",
       "    </tr>\n",
       "  </thead>\n",
       "  <tbody>\n",
       "    <tr>\n",
       "      <th>count</th>\n",
       "      <td>30.000000</td>\n",
       "    </tr>\n",
       "    <tr>\n",
       "      <th>mean</th>\n",
       "      <td>56.624014</td>\n",
       "    </tr>\n",
       "    <tr>\n",
       "      <th>std</th>\n",
       "      <td>19.672648</td>\n",
       "    </tr>\n",
       "    <tr>\n",
       "      <th>min</th>\n",
       "      <td>17.827610</td>\n",
       "    </tr>\n",
       "    <tr>\n",
       "      <th>25%</th>\n",
       "      <td>40.805772</td>\n",
       "    </tr>\n",
       "    <tr>\n",
       "      <th>50%</th>\n",
       "      <td>57.406964</td>\n",
       "    </tr>\n",
       "    <tr>\n",
       "      <th>75%</th>\n",
       "      <td>68.888888</td>\n",
       "    </tr>\n",
       "    <tr>\n",
       "      <th>max</th>\n",
       "      <td>89.519583</td>\n",
       "    </tr>\n",
       "  </tbody>\n",
       "</table>\n",
       "</div>"
      ],
      "text/plain": [
       "               0\n",
       "count  30.000000\n",
       "mean   56.624014\n",
       "std    19.672648\n",
       "min    17.827610\n",
       "25%    40.805772\n",
       "50%    57.406964\n",
       "75%    68.888888\n",
       "max    89.519583"
      ]
     },
     "execution_count": 48,
     "metadata": {},
     "output_type": "execute_result"
    }
   ],
   "source": [
    "datos_norm_johnson.describe()"
   ]
  },
  {
   "cell_type": "code",
   "execution_count": 49,
   "id": "0ef2cf24",
   "metadata": {},
   "outputs": [
    {
     "data": {
      "text/plain": [
       "(array([2., 1., 4., 2., 3., 5., 3., 4., 2., 4.]),\n",
       " array([17.82761003, 24.99680732, 32.1660046 , 39.33520189, 46.50439918,\n",
       "        53.67359646, 60.84279375, 68.01199103, 75.18118832, 82.35038561,\n",
       "        89.51958289]),\n",
       " <BarContainer object of 10 artists>)"
      ]
     },
     "execution_count": 49,
     "metadata": {},
     "output_type": "execute_result"
    },
    {
     "data": {
      "image/png": "[encoded data removed]",
      "text/plain": [
       "<Figure size 640x480 with 1 Axes>"
      ]
     },
     "metadata": {},
     "output_type": "display_data"
    }
   ],
   "source": [
    "#Probamos la normalidad de los datos obtenidos\n",
    "plt.hist(datos_norm_johnson[0], 10, color='green', ec='black')"
   ]
  },
  {
   "cell_type": "code",
   "execution_count": null,
   "id": "9a471610",
   "metadata": {},
   "outputs": [],
   "source": []
  }
 ],
 "metadata": {
  "kernelspec": {
   "display_name": "Python 3 (ipykernel)",
   "language": "python",
   "name": "python3"
  },
  "language_info": {
   "codemirror_mode": {
    "name": "ipython",
    "version": 3
   },
   "file_extension": ".py",
   "mimetype": "text/x-python",
   "name": "python",
   "nbconvert_exporter": "python",
   "pygments_lexer": "ipython3",
   "version": "3.9.16"
  }
 },
 "nbformat": 4,
 "nbformat_minor": 5
}
