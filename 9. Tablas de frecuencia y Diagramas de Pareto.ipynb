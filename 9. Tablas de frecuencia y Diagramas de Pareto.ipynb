{
 "cells": [
  {
   "cell_type": "markdown",
   "id": "d3fc2c82",
   "metadata": {},
   "source": [
    "# Tablas de frecuencia y diagrmas de Pareto"
   ]
  },
  {
   "cell_type": "code",
   "execution_count": 2,
   "id": "cab9b2ce",
   "metadata": {},
   "outputs": [],
   "source": [
    "import pandas as pd\n",
    "import matplotlib.pyplot as plt \n",
    "from matplotlib.ticker import PercentFormatter\n"
   ]
  },
  {
   "cell_type": "code",
   "execution_count": 3,
   "id": "a112273d",
   "metadata": {},
   "outputs": [
    {
     "name": "stdout",
     "output_type": "stream",
     "text": [
      "<class 'pandas.core.frame.DataFrame'>\n",
      "RangeIndex: 42 entries, 0 to 41\n",
      "Data columns (total 2 columns):\n",
      " #   Column       Non-Null Count  Dtype \n",
      "---  ------       --------------  ----- \n",
      " 0   Transaccion  42 non-null     int64 \n",
      " 1   Producto     42 non-null     object\n",
      "dtypes: int64(1), object(1)\n",
      "memory usage: 800.0+ bytes\n"
     ]
    }
   ],
   "source": [
    "Productos=pd.read_csv ('C:/Users/pc/Archivos en Jupyter/Tablas de Frecuencias y Diagrama de Pareto en Python/Datos Compras.csv', engine ='python')\n",
    "Productos.info()"
   ]
  },
  {
   "cell_type": "code",
   "execution_count": 5,
   "id": "07381129",
   "metadata": {},
   "outputs": [
    {
     "data": {
      "text/html": [
       "<div>\n",
       "<style scoped>\n",
       "    .dataframe tbody tr th:only-of-type {\n",
       "        vertical-align: middle;\n",
       "    }\n",
       "\n",
       "    .dataframe tbody tr th {\n",
       "        vertical-align: top;\n",
       "    }\n",
       "\n",
       "    .dataframe thead th {\n",
       "        text-align: right;\n",
       "    }\n",
       "</style>\n",
       "<table border=\"1\" class=\"dataframe\">\n",
       "  <thead>\n",
       "    <tr style=\"text-align: right;\">\n",
       "      <th></th>\n",
       "      <th>Transaccion</th>\n",
       "      <th>Producto</th>\n",
       "    </tr>\n",
       "  </thead>\n",
       "  <tbody>\n",
       "    <tr>\n",
       "      <th>0</th>\n",
       "      <td>1</td>\n",
       "      <td>Leche</td>\n",
       "    </tr>\n",
       "    <tr>\n",
       "      <th>1</th>\n",
       "      <td>1</td>\n",
       "      <td>Huevos</td>\n",
       "    </tr>\n",
       "    <tr>\n",
       "      <th>2</th>\n",
       "      <td>1</td>\n",
       "      <td>Pan</td>\n",
       "    </tr>\n",
       "    <tr>\n",
       "      <th>3</th>\n",
       "      <td>1</td>\n",
       "      <td>Mantequilla</td>\n",
       "    </tr>\n",
       "    <tr>\n",
       "      <th>4</th>\n",
       "      <td>2</td>\n",
       "      <td>Salchichas</td>\n",
       "    </tr>\n",
       "  </tbody>\n",
       "</table>\n",
       "</div>"
      ],
      "text/plain": [
       "   Transaccion     Producto\n",
       "0            1        Leche\n",
       "1            1       Huevos\n",
       "2            1          Pan\n",
       "3            1  Mantequilla\n",
       "4            2   Salchichas"
      ]
     },
     "execution_count": 5,
     "metadata": {},
     "output_type": "execute_result"
    }
   ],
   "source": [
    "Productos.head()"
   ]
  },
  {
   "cell_type": "code",
   "execution_count": 9,
   "id": "6792d0af",
   "metadata": {},
   "outputs": [],
   "source": [
    "frec = pd.value_counts(Productos[\"Producto\"])"
   ]
  },
  {
   "cell_type": "code",
   "execution_count": 10,
   "id": "75220acb",
   "metadata": {},
   "outputs": [
    {
     "data": {
      "text/plain": [
       "Leche          9\n",
       "Pan            9\n",
       "Mantequilla    9\n",
       "Galletas       5\n",
       "Catsup         3\n",
       "Huevos         2\n",
       "Salchichas     2\n",
       "Harina         1\n",
       "Mermerlada     1\n",
       "Atun           1\n",
       "Name: Producto, dtype: int64"
      ]
     },
     "execution_count": 10,
     "metadata": {},
     "output_type": "execute_result"
    }
   ],
   "source": [
    "frec"
   ]
  },
  {
   "cell_type": "code",
   "execution_count": 11,
   "id": "f47f73a5",
   "metadata": {},
   "outputs": [
    {
     "data": {
      "text/html": [
       "<div>\n",
       "<style scoped>\n",
       "    .dataframe tbody tr th:only-of-type {\n",
       "        vertical-align: middle;\n",
       "    }\n",
       "\n",
       "    .dataframe tbody tr th {\n",
       "        vertical-align: top;\n",
       "    }\n",
       "\n",
       "    .dataframe thead th {\n",
       "        text-align: right;\n",
       "    }\n",
       "</style>\n",
       "<table border=\"1\" class=\"dataframe\">\n",
       "  <thead>\n",
       "    <tr style=\"text-align: right;\">\n",
       "      <th></th>\n",
       "      <th>Producto</th>\n",
       "    </tr>\n",
       "  </thead>\n",
       "  <tbody>\n",
       "    <tr>\n",
       "      <th>Leche</th>\n",
       "      <td>9</td>\n",
       "    </tr>\n",
       "    <tr>\n",
       "      <th>Pan</th>\n",
       "      <td>9</td>\n",
       "    </tr>\n",
       "    <tr>\n",
       "      <th>Mantequilla</th>\n",
       "      <td>9</td>\n",
       "    </tr>\n",
       "    <tr>\n",
       "      <th>Galletas</th>\n",
       "      <td>5</td>\n",
       "    </tr>\n",
       "    <tr>\n",
       "      <th>Catsup</th>\n",
       "      <td>3</td>\n",
       "    </tr>\n",
       "    <tr>\n",
       "      <th>Huevos</th>\n",
       "      <td>2</td>\n",
       "    </tr>\n",
       "    <tr>\n",
       "      <th>Salchichas</th>\n",
       "      <td>2</td>\n",
       "    </tr>\n",
       "    <tr>\n",
       "      <th>Harina</th>\n",
       "      <td>1</td>\n",
       "    </tr>\n",
       "    <tr>\n",
       "      <th>Mermerlada</th>\n",
       "      <td>1</td>\n",
       "    </tr>\n",
       "    <tr>\n",
       "      <th>Atun</th>\n",
       "      <td>1</td>\n",
       "    </tr>\n",
       "  </tbody>\n",
       "</table>\n",
       "</div>"
      ],
      "text/plain": [
       "             Producto\n",
       "Leche               9\n",
       "Pan                 9\n",
       "Mantequilla         9\n",
       "Galletas            5\n",
       "Catsup              3\n",
       "Huevos              2\n",
       "Salchichas          2\n",
       "Harina              1\n",
       "Mermerlada          1\n",
       "Atun                1"
      ]
     },
     "execution_count": 11,
     "metadata": {},
     "output_type": "execute_result"
    }
   ],
   "source": [
    "frec_df=pd.DataFrame(frec)\n",
    "frec_df"
   ]
  },
  {
   "cell_type": "code",
   "execution_count": 13,
   "id": "7c5843ac",
   "metadata": {},
   "outputs": [],
   "source": [
    "frec_df.columns = [\"Frec_abs\"]"
   ]
  },
  {
   "cell_type": "code",
   "execution_count": 14,
   "id": "d9510c8f",
   "metadata": {},
   "outputs": [
    {
     "data": {
      "text/html": [
       "<div>\n",
       "<style scoped>\n",
       "    .dataframe tbody tr th:only-of-type {\n",
       "        vertical-align: middle;\n",
       "    }\n",
       "\n",
       "    .dataframe tbody tr th {\n",
       "        vertical-align: top;\n",
       "    }\n",
       "\n",
       "    .dataframe thead th {\n",
       "        text-align: right;\n",
       "    }\n",
       "</style>\n",
       "<table border=\"1\" class=\"dataframe\">\n",
       "  <thead>\n",
       "    <tr style=\"text-align: right;\">\n",
       "      <th></th>\n",
       "      <th>Frec_abs</th>\n",
       "    </tr>\n",
       "  </thead>\n",
       "  <tbody>\n",
       "    <tr>\n",
       "      <th>Leche</th>\n",
       "      <td>9</td>\n",
       "    </tr>\n",
       "    <tr>\n",
       "      <th>Pan</th>\n",
       "      <td>9</td>\n",
       "    </tr>\n",
       "    <tr>\n",
       "      <th>Mantequilla</th>\n",
       "      <td>9</td>\n",
       "    </tr>\n",
       "    <tr>\n",
       "      <th>Galletas</th>\n",
       "      <td>5</td>\n",
       "    </tr>\n",
       "    <tr>\n",
       "      <th>Catsup</th>\n",
       "      <td>3</td>\n",
       "    </tr>\n",
       "    <tr>\n",
       "      <th>Huevos</th>\n",
       "      <td>2</td>\n",
       "    </tr>\n",
       "    <tr>\n",
       "      <th>Salchichas</th>\n",
       "      <td>2</td>\n",
       "    </tr>\n",
       "    <tr>\n",
       "      <th>Harina</th>\n",
       "      <td>1</td>\n",
       "    </tr>\n",
       "    <tr>\n",
       "      <th>Mermerlada</th>\n",
       "      <td>1</td>\n",
       "    </tr>\n",
       "    <tr>\n",
       "      <th>Atun</th>\n",
       "      <td>1</td>\n",
       "    </tr>\n",
       "  </tbody>\n",
       "</table>\n",
       "</div>"
      ],
      "text/plain": [
       "             Frec_abs\n",
       "Leche               9\n",
       "Pan                 9\n",
       "Mantequilla         9\n",
       "Galletas            5\n",
       "Catsup              3\n",
       "Huevos              2\n",
       "Salchichas          2\n",
       "Harina              1\n",
       "Mermerlada          1\n",
       "Atun                1"
      ]
     },
     "execution_count": 14,
     "metadata": {},
     "output_type": "execute_result"
    }
   ],
   "source": [
    "frec_df"
   ]
  },
  {
   "cell_type": "code",
   "execution_count": 15,
   "id": "f255174d",
   "metadata": {},
   "outputs": [],
   "source": [
    "frec_df[\"Frec_rel_%\"]= 100*frec_df[\"Frec_abs\"]/len(Productos)"
   ]
  },
  {
   "cell_type": "code",
   "execution_count": 16,
   "id": "43d425e0",
   "metadata": {},
   "outputs": [
    {
     "data": {
      "text/html": [
       "<div>\n",
       "<style scoped>\n",
       "    .dataframe tbody tr th:only-of-type {\n",
       "        vertical-align: middle;\n",
       "    }\n",
       "\n",
       "    .dataframe tbody tr th {\n",
       "        vertical-align: top;\n",
       "    }\n",
       "\n",
       "    .dataframe thead th {\n",
       "        text-align: right;\n",
       "    }\n",
       "</style>\n",
       "<table border=\"1\" class=\"dataframe\">\n",
       "  <thead>\n",
       "    <tr style=\"text-align: right;\">\n",
       "      <th></th>\n",
       "      <th>Frec_abs</th>\n",
       "      <th>Frec_rel_%</th>\n",
       "    </tr>\n",
       "  </thead>\n",
       "  <tbody>\n",
       "    <tr>\n",
       "      <th>Leche</th>\n",
       "      <td>9</td>\n",
       "      <td>21.428571</td>\n",
       "    </tr>\n",
       "    <tr>\n",
       "      <th>Pan</th>\n",
       "      <td>9</td>\n",
       "      <td>21.428571</td>\n",
       "    </tr>\n",
       "    <tr>\n",
       "      <th>Mantequilla</th>\n",
       "      <td>9</td>\n",
       "      <td>21.428571</td>\n",
       "    </tr>\n",
       "    <tr>\n",
       "      <th>Galletas</th>\n",
       "      <td>5</td>\n",
       "      <td>11.904762</td>\n",
       "    </tr>\n",
       "    <tr>\n",
       "      <th>Catsup</th>\n",
       "      <td>3</td>\n",
       "      <td>7.142857</td>\n",
       "    </tr>\n",
       "    <tr>\n",
       "      <th>Huevos</th>\n",
       "      <td>2</td>\n",
       "      <td>4.761905</td>\n",
       "    </tr>\n",
       "    <tr>\n",
       "      <th>Salchichas</th>\n",
       "      <td>2</td>\n",
       "      <td>4.761905</td>\n",
       "    </tr>\n",
       "    <tr>\n",
       "      <th>Harina</th>\n",
       "      <td>1</td>\n",
       "      <td>2.380952</td>\n",
       "    </tr>\n",
       "    <tr>\n",
       "      <th>Mermerlada</th>\n",
       "      <td>1</td>\n",
       "      <td>2.380952</td>\n",
       "    </tr>\n",
       "    <tr>\n",
       "      <th>Atun</th>\n",
       "      <td>1</td>\n",
       "      <td>2.380952</td>\n",
       "    </tr>\n",
       "  </tbody>\n",
       "</table>\n",
       "</div>"
      ],
      "text/plain": [
       "             Frec_abs  Frec_rel_%\n",
       "Leche               9   21.428571\n",
       "Pan                 9   21.428571\n",
       "Mantequilla         9   21.428571\n",
       "Galletas            5   11.904762\n",
       "Catsup              3    7.142857\n",
       "Huevos              2    4.761905\n",
       "Salchichas          2    4.761905\n",
       "Harina              1    2.380952\n",
       "Mermerlada          1    2.380952\n",
       "Atun                1    2.380952"
      ]
     },
     "execution_count": 16,
     "metadata": {},
     "output_type": "execute_result"
    }
   ],
   "source": [
    "frec_df"
   ]
  },
  {
   "cell_type": "code",
   "execution_count": 18,
   "id": "b54d67cf",
   "metadata": {},
   "outputs": [],
   "source": [
    "Prec_rel_val= frec_df[\"Frec_rel_%\"].values\n"
   ]
  },
  {
   "cell_type": "code",
   "execution_count": 19,
   "id": "5d0a6b71",
   "metadata": {},
   "outputs": [],
   "source": [
    "acum =[]"
   ]
  },
  {
   "cell_type": "code",
   "execution_count": 20,
   "id": "87922c7b",
   "metadata": {},
   "outputs": [],
   "source": [
    "valor_acum=0"
   ]
  },
  {
   "cell_type": "code",
   "execution_count": 22,
   "id": "9d8ec180",
   "metadata": {},
   "outputs": [],
   "source": [
    "for i in Prec_rel_val:\n",
    "    valor_acum = valor_acum + i\n",
    "    acum.append(valor_acum)"
   ]
  },
  {
   "cell_type": "code",
   "execution_count": 23,
   "id": "cacd7a06",
   "metadata": {},
   "outputs": [],
   "source": [
    "frec_df[\"Frec_rel_%_acum\"]=acum"
   ]
  },
  {
   "cell_type": "code",
   "execution_count": 24,
   "id": "81204ff6",
   "metadata": {},
   "outputs": [
    {
     "data": {
      "text/html": [
       "<div>\n",
       "<style scoped>\n",
       "    .dataframe tbody tr th:only-of-type {\n",
       "        vertical-align: middle;\n",
       "    }\n",
       "\n",
       "    .dataframe tbody tr th {\n",
       "        vertical-align: top;\n",
       "    }\n",
       "\n",
       "    .dataframe thead th {\n",
       "        text-align: right;\n",
       "    }\n",
       "</style>\n",
       "<table border=\"1\" class=\"dataframe\">\n",
       "  <thead>\n",
       "    <tr style=\"text-align: right;\">\n",
       "      <th></th>\n",
       "      <th>Frec_abs</th>\n",
       "      <th>Frec_rel_%</th>\n",
       "      <th>Frec_rel_%_acum</th>\n",
       "    </tr>\n",
       "  </thead>\n",
       "  <tbody>\n",
       "    <tr>\n",
       "      <th>Leche</th>\n",
       "      <td>9</td>\n",
       "      <td>21.428571</td>\n",
       "      <td>21.428571</td>\n",
       "    </tr>\n",
       "    <tr>\n",
       "      <th>Pan</th>\n",
       "      <td>9</td>\n",
       "      <td>21.428571</td>\n",
       "      <td>42.857143</td>\n",
       "    </tr>\n",
       "    <tr>\n",
       "      <th>Mantequilla</th>\n",
       "      <td>9</td>\n",
       "      <td>21.428571</td>\n",
       "      <td>64.285714</td>\n",
       "    </tr>\n",
       "    <tr>\n",
       "      <th>Galletas</th>\n",
       "      <td>5</td>\n",
       "      <td>11.904762</td>\n",
       "      <td>76.190476</td>\n",
       "    </tr>\n",
       "    <tr>\n",
       "      <th>Catsup</th>\n",
       "      <td>3</td>\n",
       "      <td>7.142857</td>\n",
       "      <td>83.333333</td>\n",
       "    </tr>\n",
       "    <tr>\n",
       "      <th>Huevos</th>\n",
       "      <td>2</td>\n",
       "      <td>4.761905</td>\n",
       "      <td>88.095238</td>\n",
       "    </tr>\n",
       "    <tr>\n",
       "      <th>Salchichas</th>\n",
       "      <td>2</td>\n",
       "      <td>4.761905</td>\n",
       "      <td>92.857143</td>\n",
       "    </tr>\n",
       "    <tr>\n",
       "      <th>Harina</th>\n",
       "      <td>1</td>\n",
       "      <td>2.380952</td>\n",
       "      <td>95.238095</td>\n",
       "    </tr>\n",
       "    <tr>\n",
       "      <th>Mermerlada</th>\n",
       "      <td>1</td>\n",
       "      <td>2.380952</td>\n",
       "      <td>97.619048</td>\n",
       "    </tr>\n",
       "    <tr>\n",
       "      <th>Atun</th>\n",
       "      <td>1</td>\n",
       "      <td>2.380952</td>\n",
       "      <td>100.000000</td>\n",
       "    </tr>\n",
       "  </tbody>\n",
       "</table>\n",
       "</div>"
      ],
      "text/plain": [
       "             Frec_abs  Frec_rel_%  Frec_rel_%_acum\n",
       "Leche               9   21.428571        21.428571\n",
       "Pan                 9   21.428571        42.857143\n",
       "Mantequilla         9   21.428571        64.285714\n",
       "Galletas            5   11.904762        76.190476\n",
       "Catsup              3    7.142857        83.333333\n",
       "Huevos              2    4.761905        88.095238\n",
       "Salchichas          2    4.761905        92.857143\n",
       "Harina              1    2.380952        95.238095\n",
       "Mermerlada          1    2.380952        97.619048\n",
       "Atun                1    2.380952       100.000000"
      ]
     },
     "execution_count": 24,
     "metadata": {},
     "output_type": "execute_result"
    }
   ],
   "source": [
    "frec_df"
   ]
  },
  {
   "cell_type": "code",
   "execution_count": 41,
   "id": "522c6176",
   "metadata": {},
   "outputs": [
    {
     "name": "stderr",
     "output_type": "stream",
     "text": [
      "C:\\Users\\pc\\AppData\\Local\\Temp/ipykernel_10508/4137752772.py:10: UserWarning: FixedFormatter should only be used together with FixedLocator\n",
      "  ax.set_xticklabels(frec_df.index, rotation=75)\n"
     ]
    },
    {
     "data": {
      "image/png": "[encoded data removed]",
      "text/plain": [
       "<Figure size 432x288 with 2 Axes>"
      ]
     },
     "metadata": {},
     "output_type": "display_data"
    }
   ],
   "source": [
    "fig = plt.figure()\n",
    "ax=fig.add_subplot(1,1,1)\n",
    "ax.set_title('Diagrama de Preto')\n",
    "ax.bar(frec_df.index, frec_df[\"Frec_abs\"], color=\"C02\")\n",
    "ax2=ax.twinx()\n",
    "ax2.plot(frec_df.index, frec_df[\"Frec_rel_%_acum\"], color=\"C1\", marker=\"D\", ms=5)\n",
    "ax2.yaxis.set_major_formatter(PercentFormatter())\n",
    "ax.tick_params(axis=\"y\", colors=\"C0\")\n",
    "ax2.tick_params(axis=\"y\", colors=\"C1\")\n",
    "ax.set_xticklabels(frec_df.index, rotation=75)\n",
    "plt.show()"
   ]
  },
  {
   "cell_type": "code",
   "execution_count": null,
   "id": "089a27a5",
   "metadata": {},
   "outputs": [],
   "source": []
  },
  {
   "cell_type": "code",
   "execution_count": null,
   "id": "5d17c392",
   "metadata": {},
   "outputs": [],
   "source": []
  },
  {
   "cell_type": "code",
   "execution_count": null,
   "id": "298282a6",
   "metadata": {},
   "outputs": [],
   "source": []
  },
  {
   "cell_type": "code",
   "execution_count": null,
   "id": "66493f3a",
   "metadata": {},
   "outputs": [],
   "source": [
    "\n"
   ]
  },
  {
   "cell_type": "code",
   "execution_count": null,
   "id": "1c1efcf5",
   "metadata": {},
   "outputs": [],
   "source": []
  },
  {
   "cell_type": "code",
   "execution_count": null,
   "id": "ae8f9d7f",
   "metadata": {},
   "outputs": [],
   "source": []
  },
  {
   "cell_type": "code",
   "execution_count": null,
   "id": "cab85647",
   "metadata": {},
   "outputs": [],
   "source": []
  }
 ],
 "metadata": {
  "kernelspec": {
   "display_name": "Python 3 (ipykernel)",
   "language": "python",
   "name": "python3"
  },
  "language_info": {
   "codemirror_mode": {
    "name": "ipython",
    "version": 3
   },
   "file_extension": ".py",
   "mimetype": "text/x-python",
   "name": "python",
   "nbconvert_exporter": "python",
   "pygments_lexer": "ipython3",
   "version": "3.9.7"
  }
 },
 "nbformat": 4,
 "nbformat_minor": 5
}
