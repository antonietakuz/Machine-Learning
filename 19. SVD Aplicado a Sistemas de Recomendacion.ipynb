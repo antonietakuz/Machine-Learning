{
 "cells": [
  {
   "cell_type": "markdown",
   "metadata": {},
   "source": [
    "# Recommendation Engine / System"
   ]
  },
  {
   "cell_type": "code",
   "execution_count": 1,
   "metadata": {},
   "outputs": [],
   "source": [
    "import pandas as pd\n",
    "import numpy as np"
   ]
  },
  {
   "cell_type": "code",
   "execution_count": 6,
   "metadata": {},
   "outputs": [
    {
     "data": {
      "text/html": [
       "<div>\n",
       "<style scoped>\n",
       "    .dataframe tbody tr th:only-of-type {\n",
       "        vertical-align: middle;\n",
       "    }\n",
       "\n",
       "    .dataframe tbody tr th {\n",
       "        vertical-align: top;\n",
       "    }\n",
       "\n",
       "    .dataframe thead th {\n",
       "        text-align: right;\n",
       "    }\n",
       "</style>\n",
       "<table border=\"1\" class=\"dataframe\">\n",
       "  <thead>\n",
       "    <tr style=\"text-align: right;\">\n",
       "      <th></th>\n",
       "      <th>Matrix</th>\n",
       "      <th>Alien</th>\n",
       "      <th>Toy_Story</th>\n",
       "      <th>Monsters_Inc</th>\n",
       "      <th>Titanic</th>\n",
       "      <th>Amelie</th>\n",
       "    </tr>\n",
       "    <tr>\n",
       "      <th>UserID</th>\n",
       "      <th></th>\n",
       "      <th></th>\n",
       "      <th></th>\n",
       "      <th></th>\n",
       "      <th></th>\n",
       "      <th></th>\n",
       "    </tr>\n",
       "  </thead>\n",
       "  <tbody>\n",
       "    <tr>\n",
       "      <th>0</th>\n",
       "      <td>5</td>\n",
       "      <td>5</td>\n",
       "      <td>4</td>\n",
       "      <td>0</td>\n",
       "      <td>4</td>\n",
       "      <td>0</td>\n",
       "    </tr>\n",
       "    <tr>\n",
       "      <th>1</th>\n",
       "      <td>0</td>\n",
       "      <td>0</td>\n",
       "      <td>0</td>\n",
       "      <td>0</td>\n",
       "      <td>5</td>\n",
       "      <td>5</td>\n",
       "    </tr>\n",
       "    <tr>\n",
       "      <th>2</th>\n",
       "      <td>3</td>\n",
       "      <td>0</td>\n",
       "      <td>5</td>\n",
       "      <td>5</td>\n",
       "      <td>0</td>\n",
       "      <td>0</td>\n",
       "    </tr>\n",
       "    <tr>\n",
       "      <th>3</th>\n",
       "      <td>5</td>\n",
       "      <td>5</td>\n",
       "      <td>0</td>\n",
       "      <td>0</td>\n",
       "      <td>0</td>\n",
       "      <td>1</td>\n",
       "    </tr>\n",
       "    <tr>\n",
       "      <th>4</th>\n",
       "      <td>0</td>\n",
       "      <td>2</td>\n",
       "      <td>0</td>\n",
       "      <td>0</td>\n",
       "      <td>5</td>\n",
       "      <td>5</td>\n",
       "    </tr>\n",
       "    <tr>\n",
       "      <th>5</th>\n",
       "      <td>0</td>\n",
       "      <td>0</td>\n",
       "      <td>5</td>\n",
       "      <td>5</td>\n",
       "      <td>4</td>\n",
       "      <td>0</td>\n",
       "    </tr>\n",
       "    <tr>\n",
       "      <th>6</th>\n",
       "      <td>5</td>\n",
       "      <td>5</td>\n",
       "      <td>0</td>\n",
       "      <td>0</td>\n",
       "      <td>0</td>\n",
       "      <td>0</td>\n",
       "    </tr>\n",
       "  </tbody>\n",
       "</table>\n",
       "</div>"
      ],
      "text/plain": [
       "        Matrix  Alien  Toy_Story  Monsters_Inc  Titanic  Amelie\n",
       "UserID                                                         \n",
       "0            5      5          4             0        4       0\n",
       "1            0      0          0             0        5       5\n",
       "2            3      0          5             5        0       0\n",
       "3            5      5          0             0        0       1\n",
       "4            0      2          0             0        5       5\n",
       "5            0      0          5             5        4       0\n",
       "6            5      5          0             0        0       0"
      ]
     },
     "execution_count": 6,
     "metadata": {},
     "output_type": "execute_result"
    }
   ],
   "source": [
    "productos = pd.read_csv(\"Peliculas.csv\", sep = ';', index_col=0)\n",
    "productos"
   ]
  },
  {
   "cell_type": "code",
   "execution_count": 8,
   "metadata": {},
   "outputs": [],
   "source": [
    "from scipy.linalg import svd\n",
    "\n",
    "#calcula los componnentes principales usando svd\n",
    "\n",
    "U, s, V_transp=svd(productos, full_matrices=False)"
   ]
  },
  {
   "cell_type": "code",
   "execution_count": 9,
   "metadata": {},
   "outputs": [
    {
     "data": {
      "text/plain": [
       "array([[-0.59725598,  0.15261091, -0.00221814, -0.66521948,  0.40223989,\n",
       "        -0.12520545],\n",
       "       [-0.22737091, -0.42897299,  0.46962994,  0.22139203,  0.37507102,\n",
       "         0.58212488],\n",
       "       [-0.33353678, -0.15076096, -0.57634343,  0.54777771,  0.40066828,\n",
       "        -0.2056632 ],\n",
       "       [-0.37598112,  0.43216044,  0.12639594,  0.34523735, -0.18002397,\n",
       "        -0.09458394],\n",
       "       [-0.29770279, -0.33800177,  0.51457647,  0.1446018 , -0.26196129,\n",
       "        -0.61085684],\n",
       "       [-0.34597423, -0.50182315, -0.40206725, -0.20027   , -0.58374914,\n",
       "         0.23449179],\n",
       "       [-0.361461  ,  0.46597092,  0.0696283 ,  0.16793336, -0.30853578,\n",
       "         0.40752702]])"
      ]
     },
     "execution_count": 9,
     "metadata": {},
     "output_type": "execute_result"
    }
   ],
   "source": [
    "#matriz de vectores singulares\n",
    "U"
   ]
  },
  {
   "cell_type": "code",
   "execution_count": 10,
   "metadata": {},
   "outputs": [
    {
     "data": {
      "text/plain": [
       "array([[-0.53377025, -0.50558633, -0.40248412, -0.23631613, -0.44503149,\n",
       "        -0.20875816],\n",
       "       [ 0.47861185,  0.45631112, -0.26440191, -0.32525163, -0.52150407,\n",
       "        -0.33918634],\n",
       "       [-0.08059885,  0.21190964, -0.51974881, -0.51880787,  0.35038137,\n",
       "         0.53528552],\n",
       "       [ 0.25212368, -0.13448288, -0.26361514,  0.49607057, -0.46593589,\n",
       "         0.6210256 ],\n",
       "       [ 0.44480005, -0.55167849,  0.40042988, -0.52851628, -0.09265928,\n",
       "         0.22258588],\n",
       "       [ 0.46702293, -0.41087971, -0.51780527,  0.20925819,  0.42606498,\n",
       "        -0.34586818]])"
      ]
     },
     "execution_count": 10,
     "metadata": {},
     "output_type": "execute_result"
    }
   ],
   "source": [
    "#matriz de observaciones\n",
    "V_transp"
   ]
  },
  {
   "cell_type": "code",
   "execution_count": 11,
   "metadata": {},
   "outputs": [
    {
     "data": {
      "text/plain": [
       "array([14.37716096, 10.03198833,  9.4294125 ,  3.50260361,  1.73202669,\n",
       "        0.68882817])"
      ]
     },
     "execution_count": 11,
     "metadata": {},
     "output_type": "execute_result"
    }
   ],
   "source": [
    "#Mostrar los valores singulare\n",
    "s"
   ]
  },
  {
   "cell_type": "code",
   "execution_count": 13,
   "metadata": {},
   "outputs": [
    {
     "data": {
      "text/plain": [
       "[36.158024322309466,\n",
       " 25.230077006121615,\n",
       " 23.714621229647513,\n",
       " 8.808917618276851,\n",
       " 4.355982626055697,\n",
       " 1.7323771975888653]"
      ]
     },
     "execution_count": 13,
     "metadata": {},
     "output_type": "execute_result"
    }
   ],
   "source": [
    "sigma_s=[]\n",
    "for i in range(len(s)):\n",
    "    a=(s[i]/(sum(s)))*100\n",
    "    sigma_s.append(a)\n",
    "\n",
    "sigma_s"
   ]
  },
  {
   "cell_type": "code",
   "execution_count": 14,
   "metadata": {},
   "outputs": [],
   "source": [
    "#Le indicamos la cantidad de valores singulares a tomar en cuenta\n",
    "k=3"
   ]
  },
  {
   "cell_type": "code",
   "execution_count": 15,
   "metadata": {},
   "outputs": [],
   "source": [
    "#Matriz de elementos\n",
    "matriz_usuarios=U[:, :k]"
   ]
  },
  {
   "cell_type": "code",
   "execution_count": 18,
   "metadata": {},
   "outputs": [
    {
     "data": {
      "text/html": [
       "<div>\n",
       "<style scoped>\n",
       "    .dataframe tbody tr th:only-of-type {\n",
       "        vertical-align: middle;\n",
       "    }\n",
       "\n",
       "    .dataframe tbody tr th {\n",
       "        vertical-align: top;\n",
       "    }\n",
       "\n",
       "    .dataframe thead th {\n",
       "        text-align: right;\n",
       "    }\n",
       "</style>\n",
       "<table border=\"1\" class=\"dataframe\">\n",
       "  <thead>\n",
       "    <tr style=\"text-align: right;\">\n",
       "      <th></th>\n",
       "      <th>0</th>\n",
       "      <th>1</th>\n",
       "      <th>2</th>\n",
       "    </tr>\n",
       "  </thead>\n",
       "  <tbody>\n",
       "    <tr>\n",
       "      <th>0</th>\n",
       "      <td>-0.60</td>\n",
       "      <td>0.15</td>\n",
       "      <td>-0.00</td>\n",
       "    </tr>\n",
       "    <tr>\n",
       "      <th>1</th>\n",
       "      <td>-0.23</td>\n",
       "      <td>-0.43</td>\n",
       "      <td>0.47</td>\n",
       "    </tr>\n",
       "    <tr>\n",
       "      <th>2</th>\n",
       "      <td>-0.33</td>\n",
       "      <td>-0.15</td>\n",
       "      <td>-0.58</td>\n",
       "    </tr>\n",
       "    <tr>\n",
       "      <th>3</th>\n",
       "      <td>-0.38</td>\n",
       "      <td>0.43</td>\n",
       "      <td>0.13</td>\n",
       "    </tr>\n",
       "    <tr>\n",
       "      <th>4</th>\n",
       "      <td>-0.30</td>\n",
       "      <td>-0.34</td>\n",
       "      <td>0.51</td>\n",
       "    </tr>\n",
       "    <tr>\n",
       "      <th>5</th>\n",
       "      <td>-0.35</td>\n",
       "      <td>-0.50</td>\n",
       "      <td>-0.40</td>\n",
       "    </tr>\n",
       "    <tr>\n",
       "      <th>6</th>\n",
       "      <td>-0.36</td>\n",
       "      <td>0.47</td>\n",
       "      <td>0.07</td>\n",
       "    </tr>\n",
       "  </tbody>\n",
       "</table>\n",
       "</div>"
      ],
      "text/plain": [
       "      0     1     2\n",
       "0 -0.60  0.15 -0.00\n",
       "1 -0.23 -0.43  0.47\n",
       "2 -0.33 -0.15 -0.58\n",
       "3 -0.38  0.43  0.13\n",
       "4 -0.30 -0.34  0.51\n",
       "5 -0.35 -0.50 -0.40\n",
       "6 -0.36  0.47  0.07"
      ]
     },
     "execution_count": 18,
     "metadata": {},
     "output_type": "execute_result"
    }
   ],
   "source": [
    "matriz_usuarios_df=pd.DataFrame(np.round(matriz_usuarios,2))\n",
    "matriz_usuarios_df"
   ]
  },
  {
   "cell_type": "code",
   "execution_count": 19,
   "metadata": {},
   "outputs": [
    {
     "data": {
      "text/plain": [
       "array([[-0.53377025, -0.50558633, -0.40248412, -0.23631613, -0.44503149,\n",
       "        -0.20875816],\n",
       "       [ 0.47861185,  0.45631112, -0.26440191, -0.32525163, -0.52150407,\n",
       "        -0.33918634],\n",
       "       [-0.08059885,  0.21190964, -0.51974881, -0.51880787,  0.35038137,\n",
       "         0.53528552]])"
      ]
     },
     "execution_count": 19,
     "metadata": {},
     "output_type": "execute_result"
    }
   ],
   "source": [
    "#Matriz de Elementos\n",
    "matriz_elementos=V_transp[:k, :]\n",
    "matriz_elementos"
   ]
  },
  {
   "cell_type": "code",
   "execution_count": 20,
   "metadata": {},
   "outputs": [
    {
     "data": {
      "text/html": [
       "<div>\n",
       "<style scoped>\n",
       "    .dataframe tbody tr th:only-of-type {\n",
       "        vertical-align: middle;\n",
       "    }\n",
       "\n",
       "    .dataframe tbody tr th {\n",
       "        vertical-align: top;\n",
       "    }\n",
       "\n",
       "    .dataframe thead th {\n",
       "        text-align: right;\n",
       "    }\n",
       "</style>\n",
       "<table border=\"1\" class=\"dataframe\">\n",
       "  <thead>\n",
       "    <tr style=\"text-align: right;\">\n",
       "      <th></th>\n",
       "      <th>0</th>\n",
       "      <th>1</th>\n",
       "      <th>2</th>\n",
       "      <th>3</th>\n",
       "      <th>4</th>\n",
       "      <th>5</th>\n",
       "    </tr>\n",
       "  </thead>\n",
       "  <tbody>\n",
       "    <tr>\n",
       "      <th>0</th>\n",
       "      <td>-0.53</td>\n",
       "      <td>-0.51</td>\n",
       "      <td>-0.40</td>\n",
       "      <td>-0.24</td>\n",
       "      <td>-0.45</td>\n",
       "      <td>-0.21</td>\n",
       "    </tr>\n",
       "    <tr>\n",
       "      <th>1</th>\n",
       "      <td>0.48</td>\n",
       "      <td>0.46</td>\n",
       "      <td>-0.26</td>\n",
       "      <td>-0.33</td>\n",
       "      <td>-0.52</td>\n",
       "      <td>-0.34</td>\n",
       "    </tr>\n",
       "    <tr>\n",
       "      <th>2</th>\n",
       "      <td>-0.08</td>\n",
       "      <td>0.21</td>\n",
       "      <td>-0.52</td>\n",
       "      <td>-0.52</td>\n",
       "      <td>0.35</td>\n",
       "      <td>0.54</td>\n",
       "    </tr>\n",
       "  </tbody>\n",
       "</table>\n",
       "</div>"
      ],
      "text/plain": [
       "      0     1     2     3     4     5\n",
       "0 -0.53 -0.51 -0.40 -0.24 -0.45 -0.21\n",
       "1  0.48  0.46 -0.26 -0.33 -0.52 -0.34\n",
       "2 -0.08  0.21 -0.52 -0.52  0.35  0.54"
      ]
     },
     "execution_count": 20,
     "metadata": {},
     "output_type": "execute_result"
    }
   ],
   "source": [
    "matriz_elementos_df=pd.DataFrame(np.round(matriz_elementos,2))\n",
    "matriz_elementos_df"
   ]
  },
  {
   "cell_type": "code",
   "execution_count": 21,
   "metadata": {},
   "outputs": [
    {
     "data": {
      "text/plain": [
       "array([[ 3.92017645e-01,  3.71132469e-01,  2.01188310e-01,\n",
       "         9.26550675e-02,  1.85433311e-01,  7.17311821e-02],\n",
       "       [-1.21799358e-01,  1.87295953e-02, -3.91551436e-02,\n",
       "        -5.03921296e-02,  4.89447964e-01,  4.44353421e-01],\n",
       "       [ 1.52328650e-01, -2.22949930e-02,  4.73658561e-01,\n",
       "         4.26866877e-01,  2.51168245e-02, -1.87743713e-01],\n",
       "       [ 3.97337276e-01,  4.14075047e-01, -2.86317583e-02,\n",
       "        -1.17285693e-01, -1.37632071e-02, -4.35871424e-04],\n",
       "       [-4.43410298e-02,  1.05324210e-01, -5.82615473e-02,\n",
       "        -8.66787200e-02,  4.89054423e-01,  4.52238800e-01],\n",
       "       [-2.31015951e-02, -1.39269567e-01,  4.80906112e-01,\n",
       "         4.53573742e-01,  2.74795374e-01,  2.72157243e-02],\n",
       "       [ 4.10344368e-01,  4.10132357e-01, -1.39105180e-02,\n",
       "        -1.02262446e-01, -5.77477469e-02, -4.53220158e-02]])"
      ]
     },
     "execution_count": 21,
     "metadata": {},
     "output_type": "execute_result"
    }
   ],
   "source": [
    "#calculamos los valores predichos de preferencia de los usuarios existentes para poderles recomendar mas peliculas\n",
    "\n",
    "ratings_predichos=np.dot(matriz_usuarios,matriz_elementos)\n",
    "ratings_predichos"
   ]
  },
  {
   "cell_type": "code",
   "execution_count": 22,
   "metadata": {},
   "outputs": [
    {
     "data": {
      "text/html": [
       "<div>\n",
       "<style scoped>\n",
       "    .dataframe tbody tr th:only-of-type {\n",
       "        vertical-align: middle;\n",
       "    }\n",
       "\n",
       "    .dataframe tbody tr th {\n",
       "        vertical-align: top;\n",
       "    }\n",
       "\n",
       "    .dataframe thead th {\n",
       "        text-align: right;\n",
       "    }\n",
       "</style>\n",
       "<table border=\"1\" class=\"dataframe\">\n",
       "  <thead>\n",
       "    <tr style=\"text-align: right;\">\n",
       "      <th></th>\n",
       "      <th>Matrix</th>\n",
       "      <th>Alien</th>\n",
       "      <th>Toy_Story</th>\n",
       "      <th>Monsters_Inc</th>\n",
       "      <th>Titanic</th>\n",
       "      <th>Amelie</th>\n",
       "    </tr>\n",
       "  </thead>\n",
       "  <tbody>\n",
       "    <tr>\n",
       "      <th>0</th>\n",
       "      <td>0.39</td>\n",
       "      <td>0.37</td>\n",
       "      <td>0.20</td>\n",
       "      <td>0.09</td>\n",
       "      <td>0.19</td>\n",
       "      <td>0.07</td>\n",
       "    </tr>\n",
       "    <tr>\n",
       "      <th>1</th>\n",
       "      <td>-0.12</td>\n",
       "      <td>0.02</td>\n",
       "      <td>-0.04</td>\n",
       "      <td>-0.05</td>\n",
       "      <td>0.49</td>\n",
       "      <td>0.44</td>\n",
       "    </tr>\n",
       "    <tr>\n",
       "      <th>2</th>\n",
       "      <td>0.15</td>\n",
       "      <td>-0.02</td>\n",
       "      <td>0.47</td>\n",
       "      <td>0.43</td>\n",
       "      <td>0.03</td>\n",
       "      <td>-0.19</td>\n",
       "    </tr>\n",
       "    <tr>\n",
       "      <th>3</th>\n",
       "      <td>0.40</td>\n",
       "      <td>0.41</td>\n",
       "      <td>-0.03</td>\n",
       "      <td>-0.12</td>\n",
       "      <td>-0.01</td>\n",
       "      <td>-0.00</td>\n",
       "    </tr>\n",
       "    <tr>\n",
       "      <th>4</th>\n",
       "      <td>-0.04</td>\n",
       "      <td>0.11</td>\n",
       "      <td>-0.06</td>\n",
       "      <td>-0.09</td>\n",
       "      <td>0.49</td>\n",
       "      <td>0.45</td>\n",
       "    </tr>\n",
       "    <tr>\n",
       "      <th>5</th>\n",
       "      <td>-0.02</td>\n",
       "      <td>-0.14</td>\n",
       "      <td>0.48</td>\n",
       "      <td>0.45</td>\n",
       "      <td>0.27</td>\n",
       "      <td>0.03</td>\n",
       "    </tr>\n",
       "    <tr>\n",
       "      <th>6</th>\n",
       "      <td>0.41</td>\n",
       "      <td>0.41</td>\n",
       "      <td>-0.01</td>\n",
       "      <td>-0.10</td>\n",
       "      <td>-0.06</td>\n",
       "      <td>-0.05</td>\n",
       "    </tr>\n",
       "  </tbody>\n",
       "</table>\n",
       "</div>"
      ],
      "text/plain": [
       "   Matrix  Alien  Toy_Story  Monsters_Inc  Titanic  Amelie\n",
       "0    0.39   0.37       0.20          0.09     0.19    0.07\n",
       "1   -0.12   0.02      -0.04         -0.05     0.49    0.44\n",
       "2    0.15  -0.02       0.47          0.43     0.03   -0.19\n",
       "3    0.40   0.41      -0.03         -0.12    -0.01   -0.00\n",
       "4   -0.04   0.11      -0.06         -0.09     0.49    0.45\n",
       "5   -0.02  -0.14       0.48          0.45     0.27    0.03\n",
       "6    0.41   0.41      -0.01         -0.10    -0.06   -0.05"
      ]
     },
     "execution_count": 22,
     "metadata": {},
     "output_type": "execute_result"
    }
   ],
   "source": [
    "ratings_predichos_df=pd.DataFrame(np.round(ratings_predichos,2),columns=productos.columns)\n",
    "ratings_predichos_df"
   ]
  },
  {
   "cell_type": "code",
   "execution_count": 23,
   "metadata": {},
   "outputs": [
    {
     "data": {
      "text/plain": [
       "Matrix         -0.12\n",
       "Alien           0.02\n",
       "Toy_Story      -0.04\n",
       "Monsters_Inc   -0.05\n",
       "Titanic         0.49\n",
       "Amelie          0.44\n",
       "Name: 1, dtype: float64"
      ]
     },
     "execution_count": 23,
     "metadata": {},
     "output_type": "execute_result"
    }
   ],
   "source": [
    "#Recomendamos para un usuario especifico\n",
    "\n",
    "userID=1\n",
    "\n",
    "prediccciones_usuario=ratings_predichos_df.loc[userID]\n",
    "prediccciones_usuario"
   ]
  }
 ],
 "metadata": {
  "kernelspec": {
   "display_name": "base",
   "language": "python",
   "name": "python3"
  },
  "language_info": {
   "codemirror_mode": {
    "name": "ipython",
    "version": 3
   },
   "file_extension": ".py",
   "mimetype": "text/x-python",
   "name": "python",
   "nbconvert_exporter": "python",
   "pygments_lexer": "ipython3",
   "version": "3.10.9"
  },
  "orig_nbformat": 4
 },
 "nbformat": 4,
 "nbformat_minor": 2
}
